{
 "cells": [
  {
   "cell_type": "code",
   "execution_count": 1,
   "id": "70b35105-7bcb-4947-891a-56809df78558",
   "metadata": {},
   "outputs": [],
   "source": [
    "n = 1000  # number of neurons in one group\n",
    "neuron_group_count = 100\n",
    "R = 0.8  # ratio about excitory-inhibitory neurons"
   ]
  },
  {
   "cell_type": "code",
   "execution_count": 2,
   "id": "c0f43c58-c701-4ed3-86da-9521b9ea9d26",
   "metadata": {},
   "outputs": [
    {
     "name": "stderr",
     "output_type": "stream",
     "text": [
      "100%|███████████████████████████████████████████████████████████████████████████████████████████████████████████████████████████████████████████████████████████████████████████████████████████████████████████████████████| 100/100 [01:55<00:00,  1.15s/it]\n"
     ]
    }
   ],
   "source": [
    "from brian2 import *\n",
    "from tqdm import tqdm\n",
    "\n",
    "%matplotlib inline\n",
    "\n",
    "\n",
    "def draw_normals(n, start, stop):\n",
    "    mu, sigma, numbers = start + (stop - start) / 2, (stop - start) / 6, zeros(n)\n",
    "    for i in range(n):\n",
    "        s = -1\n",
    "        while (s < start) or (s > stop):\n",
    "            s = numpy.random.normal(mu, sigma, 1)\n",
    "            numbers[i] = s\n",
    "    return numbers\n",
    "\n",
    "\n",
    "eqs = Equations(\n",
    "    \"\"\" \n",
    "    dv/dt = (0.04/ms/mV)*v**2 + (5/ms) * v + 140*mV/ms - u + I_syn/ms + I_in/ms : volt\n",
    "    du/dt = a*((b*v) - u) : volt/second\n",
    "    dx/dt = -x/(1*ms) : 1\n",
    "    I_in = ceil(x)*((1/exp(1)))*amplitude : volt\n",
    "    dI_syn/dt = - I_syn/tau : volt\n",
    "    a : 1/second\n",
    "    b : 1/second\n",
    "    c : volt\n",
    "    d : volt/second\n",
    "    amplitude : volt\n",
    "    tau : second\n",
    "    \"\"\"\n",
    ")\n",
    "# 公式サイトにあるIzhikevichモデルの例\n",
    "# こちらでのvmがv、wが上の記法ではuになり、IがI_synとI_inに分かれている\n",
    "# a = 0.02/ms; b = 0.2/ms\n",
    "# eqs = '''dvm/dt = (0.04/ms/mV)*vm**2+(5/ms)*vm+140*mV/ms-w + I : volt\n",
    "#          dw/dt = a*(b*vm-w) : volt/second\n",
    "#          I : volt/second'''\n",
    "# group = ... # see above\n",
    "\n",
    "# reset specification of the Izhikevich model\n",
    "reset = \"\"\"\n",
    "v = c\n",
    "u += d\n",
    "\"\"\"\n",
    "\n",
    "\n",
    "\n",
    "# 各ニューロングループの生成\n",
    "P = NeuronGroup(n * neuron_group_count, model=eqs, threshold=\"v=>30*mvolt\", reset=reset, method=\"euler\")\n",
    "groups = []\n",
    "# サブグループに分ける\n",
    "for i in tqdm(range(neuron_group_count)):\n",
    "    start = int(i * n)\n",
    "    end = int((i + 1) * n)\n",
    "\n",
    "    group = P[start:end]\n",
    "    # 興奮性\n",
    "    Pe = group[: int(n * R)]\n",
    "    # Pe = P[start: start+int(n * R)]\n",
    "    # 抑制性\n",
    "    Pi = group[int(n * R) :]\n",
    "    # Pi = P[start+int(neurons_in_group * R) :end]\n",
    "\n",
    "    # 各種設定\n",
    "    Pe.a = 0.02 / msecond\n",
    "    Pe.b = 0.2 / msecond\n",
    "    Pe.c = (15 * draw_normals(int(n * R), float(0), 1) - 65) * mvolt\n",
    "    Pe.d = (-6 * draw_normals(int(n * R), float(0), 1) + 8) * mvolt / msecond\n",
    "    Pe.tau = draw_normals(int(n * R), float(3), 15) * msecond\n",
    "\n",
    "    Pi.a = (0.08 * draw_normals(n - int(n * R), float(0), 1) + 0.02) * 1 / msecond\n",
    "    Pi.b = (-0.05 * draw_normals(n - int(n * R), float(0), 1) + 0.25) * 1 / msecond\n",
    "    Pi.c = -65 * mvolt\n",
    "    Pi.d = 2 * mvolt / msecond\n",
    "    Pi.tau = draw_normals(n - int(n * R), float(3), 15) * msecond\n",
    "\n",
    "    P.x = 0\n",
    "    # 全く良くわからんがneuron_group_countをかける\n",
    "    P.v = draw_normals(n * neuron_group_count, float(-50), float(-25)) * mvolt\n",
    "    P.amplitude = draw_normals(n * neuron_group_count, 0, 8) * mvolt\n",
    "\n",
    "    taupre = taupost = 20 * ms\n",
    "    Apre = 0.01\n",
    "    Apost = -Apre * taupre / taupost * 1.05\n",
    "\n",
    "    # グループ内の接続\n",
    "    # 興奮性ニューロン to 同じニューロングループ内の100個のニューロンへのランダム接続\n",
    "    # Ce = Synapses(Pe, group, on_pre=\"I_syn+=1.5*mV\")\n",
    "    Ce = Synapses(\n",
    "        Pe,\n",
    "        group,\n",
    "        \"\"\"\n",
    "             w : 1\n",
    "             dapre/dt = -apre/taupre : 1 (event-driven)\n",
    "             dapost/dt = -apost/taupost : 1 (event-driven)\n",
    "             \"\"\",\n",
    "        on_pre=\"\"\"\n",
    "             I_syn+=1.5*mV\n",
    "             v_post += w\n",
    "             apre += Apre\n",
    "             w = clip(w+apost, 0, wmax)\n",
    "             \"\"\",\n",
    "        on_post=\"\"\"\n",
    "             apost += Apost\n",
    "             w = clip(w+apre, 0, wmax)\n",
    "             \"\"\",\n",
    "    )\n",
    "    Ce.connect(p=0.1)\n",
    "    # 抑制性ニューロン　to 同じニューロングループ内の100個の興奮性ニューロンへのランダム接続\n",
    "    Ci = Synapses(Pi, Pe, on_pre=\"I_syn-=8*mV\")\n",
    "    # Ci = Synapses(\n",
    "    #     Pi,\n",
    "    #     Pe,\n",
    "    #     \"\"\"\n",
    "    #          w : 1\n",
    "    #          dapre/dt = -apre/taupre : 1 (event-driven)\n",
    "    #          dapost/dt = -apost/taupost : 1 (event-driven)\n",
    "    #          \"\"\",\n",
    "    #     on_pre=\"\"\"\n",
    "    #         I_syn-=8*mV\n",
    "    #          v_post += w\n",
    "    #          apre += Apre\n",
    "    #          w = clip(w+apost, 0, wmax)\n",
    "    #          \"\"\",\n",
    "    #     on_post=\"\"\"\n",
    "    #          apost += Apost\n",
    "    #          w = clip(w+apre, 0, wmax)\n",
    "    #          \"\"\",\n",
    "    # )\n",
    "    Ci.connect(p=0.125)\n",
    "\n",
    "    groups.append((group, Pe, Pi, Ce, Ci))"
   ]
  },
  {
   "cell_type": "code",
   "execution_count": 3,
   "id": "f9ac4fee-dc8c-4431-84de-c0e007251a82",
   "metadata": {},
   "outputs": [],
   "source": [
    "# WSモデルに従い、各グループの興奮性ニューロンから隣接する6つのノードへの接続と再配線を行う\n",
    "import matplotlib.pyplot as pl\n",
    "from smallworld import get_smallworld_graph\n",
    "from smallworld.draw import draw_network\n",
    "\n",
    "# define network parameters\n",
    "N = neuron_group_count\n",
    "k_over_2 = 3\n",
    "# betas = [0, 0.025, 1.0]\n",
    "betas = [1.0]\n",
    "# labels = [r\"$\\beta=0$\", r\"$\\beta=0.025$\", r\"$\\beta=1$\"]\n",
    "labels = [r\"$\\beta=0$\"]\n",
    "\n",
    "focal_node = 0\n",
    "for ib, beta in enumerate(betas):\n",
    "    # generate small-world graphs and draw\n",
    "    G = get_smallworld_graph(N, k_over_2, beta)\n",
    "\n",
    "for edge in list(G.edges()):\n",
    "    source_group_Pe = groups[edge[0]][1]\n",
    "    target_group = groups[edge[1]][0]\n",
    "    taupre = taupost = 20 * ms\n",
    "    Apre = 0.01\n",
    "    Apost = -Apre * taupre / taupost * 1.05\n",
    "    Ce = Synapses(source_group_Pe, target_group, on_pre=\"I_syn+=1.5*mV\")\n",
    "    # Ce = Synapses(\n",
    "    #     source_group_Pe,\n",
    "    #     target_group,\n",
    "    #     \"\"\"\n",
    "    #          w : 1\n",
    "    #          dapre/dt = -apre/taupre : 1 (event-driven)\n",
    "    #          dapost/dt = -apost/taupost : 1 (event-driven)\n",
    "    #          \"\"\",\n",
    "    #     on_pre=\"\"\"\n",
    "    #          I_syn+=1.5*mV\n",
    "    #          v_post += w\n",
    "    #          apre += Apre\n",
    "    #          w = clip(w+apost, 0, wmax)\n",
    "    #          \"\"\",\n",
    "    #     on_post=\"\"\"\n",
    "    #          apost += Apost\n",
    "    #          w = clip(w+apre, 0, wmax)\n",
    "    #          \"\"\",\n",
    "    # )\n",
    "    # このパラメータは間違い\n",
    "    # Ce.connect(p=0.00000375)\n",
    "    # 各興奮性ニューロンが、他のニューロングループと三本の接続を持つので、接続する確率は3/1000\n",
    "    Ce.connect(p=0.003)"
   ]
  },
  {
   "cell_type": "code",
   "execution_count": null,
   "id": "5f839703-f9c8-4593-bce0-b57a86d12b2d",
   "metadata": {},
   "outputs": [
    {
     "name": "stderr",
     "output_type": "stream",
     "text": [
      "  2%|████▏                                                                                                                                                                                                               | 2/100 [39:32<32:25:44, 1191.27s/it]"
     ]
    }
   ],
   "source": [
    "from collections import defaultdict\n",
    "# とりあええず1000秒動かす\n",
    "run_time_ms = 1000*1000\n",
    "\n",
    "# statemonitorを1つだけにするver\n",
    "get_value_interval_ms = 1\n",
    "run_time_ms = 100*1000\n",
    "time_count = int(run_time_ms/get_value_interval_ms)\n",
    "\n",
    "defaultclock.dt = get_value_interval_ms*ms\n",
    "\n",
    "V = StateMonitor(P, \"v\", record=True)\n",
    "run(run_time_ms*ms)\n",
    "\n",
    "lap =defaultdict(list) \n",
    "for i in tqdm(range(neuron_group_count)):\n",
    "    start = int(i * n)\n",
    "    end = int((i + 1) * n)\n",
    "\n",
    "    group = V.v[start:end]\n",
    "    # 興奮性\n",
    "    Pe = group[: int(n * R)]\n",
    "    for j in range(time_count):\n",
    "        data = [neuron[j]/mV for neuron in list(group)]\n",
    "        mean = sum(data)/len(data)\n",
    "        lap[i].append(mean)"
   ]
  },
  {
   "cell_type": "code",
   "execution_count": null,
   "id": "64debba4-e2f8-4e76-a961-00578516f6d4",
   "metadata": {},
   "outputs": [],
   "source": [
    "len(lap[0])"
   ]
  },
  {
   "cell_type": "code",
   "execution_count": null,
   "id": "1d227d60-3d3e-4cfa-815c-d5de62982d8f",
   "metadata": {},
   "outputs": [],
   "source": [
    "import neurokit2 as nk\n",
    "import numpy as np\n",
    "import pandas as pd\n",
    "# 全てのニューロングループに対してMSEの計算を行う\n",
    "results = []\n",
    "for i in range(neuron_group_count):\n",
    "    result = nk.entropy_multiscale(signal=np.array(lap[i]),scale=40,dimension=1)\n",
    "    results.append(result[1]['Values'])\n",
    "    \n",
    "pd.DataFrame(results).to_csv('test.csv',index=False)"
   ]
  },
  {
   "cell_type": "code",
   "execution_count": null,
   "id": "b33f36df-fe58-46f9-abf2-b140191ee984",
   "metadata": {},
   "outputs": [],
   "source": []
  },
  {
   "cell_type": "code",
   "execution_count": null,
   "id": "72534648-4db9-4f98-a977-97d1dbdba78a",
   "metadata": {},
   "outputs": [],
   "source": []
  },
  {
   "cell_type": "markdown",
   "id": "9adcd249-0db5-46e3-bb3e-cd8eacd5d987",
   "metadata": {},
   "source": [
    "# 今使ってないやつ↓↓"
   ]
  },
  {
   "cell_type": "code",
   "execution_count": null,
   "id": "ca72740a-3d37-4f43-b02d-19be0856481c",
   "metadata": {
    "tags": []
   },
   "outputs": [],
   "source": [
    "# ↓statemonitorを複数仕掛けてしまい、最後のものしか値を取っていなかったやつ\n",
    "get_value_interval_ms = 0.1\n",
    "run_time_ms = 1\n",
    "time_count = int(run_time_ms/get_value_interval_ms)\n",
    "\n",
    "\n",
    "defaultclock.dt = get_value_interval_ms*ms\n",
    "\n",
    "# グループ毎にstatemonitorを仕掛ける\n",
    "state_monitors = []\n",
    "for i in range(neuron_group_count):\n",
    "    V = StateMonitor(groups[i][1], \"v\", record=True)\n",
    "    state_monitors.append(V)\n",
    "    \n",
    "run(run_time_ms*ms)\n",
    "\n",
    "lap =defaultdict(dict) \n",
    "# LAPをニューロングループ毎,0.1msごとに出す\n",
    "for i,ne_neuron_group in enumerate(state_monitors):\n",
    "    # print(ne_neuron_group)\n",
    "    for j in range(time_count):\n",
    "        for neuron in list(ne_neuron_group.v):\n",
    "            print(neuron)\n",
    "            print(j)\n",
    "            print(neuron[j]/mV)\n",
    "            \n",
    "            # data = [neuron[j]/mV for neuron in list(ne_neuron_group.v)]\n",
    "            # mean = sum(data)/len(data)\n",
    "            # lap[i][j] = mean"
   ]
  },
  {
   "cell_type": "code",
   "execution_count": null,
   "id": "25fa4df0-5bc2-41af-8954-5d3549f2ede6",
   "metadata": {},
   "outputs": [],
   "source": [
    "# state_monitors[9].v"
   ]
  },
  {
   "cell_type": "code",
   "execution_count": null,
   "id": "3a31f909-e706-4465-8488-ee51c31f11fe",
   "metadata": {},
   "outputs": [],
   "source": [
    "# state_monitors[0].v"
   ]
  },
  {
   "cell_type": "code",
   "execution_count": null,
   "id": "0ad8a9c2-9b7e-4032-a184-551136531a28",
   "metadata": {},
   "outputs": [],
   "source": [
    "state_monitors[0].v[0]/mV"
   ]
  },
  {
   "cell_type": "code",
   "execution_count": null,
   "id": "02eabf0a-5583-4b3a-8bae-9c98e0365b0c",
   "metadata": {},
   "outputs": [],
   "source": [
    "V = StateMonitor(groups[9][1], \"v\", record=True)\n",
    "run(1*ms)"
   ]
  },
  {
   "cell_type": "code",
   "execution_count": null,
   "id": "6a30b673-ffad-4a6e-9306-5bbbcc9ceca3",
   "metadata": {},
   "outputs": [],
   "source": [
    "list(V.v)[0][0]/mV"
   ]
  },
  {
   "cell_type": "code",
   "execution_count": null,
   "id": "a06af868-1c73-46db-8d6e-f58f8c534fa5",
   "metadata": {},
   "outputs": [],
   "source": [
    "int(V.v[0]/mV)"
   ]
  },
  {
   "cell_type": "code",
   "execution_count": null,
   "id": "ab1a92a7-506c-4161-a5ee-112ab83e1108",
   "metadata": {},
   "outputs": [],
   "source": [
    "%matplotlib inline\n",
    "\n",
    "defaultclock.dt = 0.1*ms\n",
    "# 6th: Run & monitor\n",
    "V = StateMonitor(P, \"v\", record=True)\n",
    "run(0.1*ms)\n",
    "\n",
    "# plot(V.t/ms,V.v[0])"
   ]
  },
  {
   "cell_type": "code",
   "execution_count": null,
   "id": "7db2dc68-4e3b-4d37-826f-5ac3ddd9910b",
   "metadata": {},
   "outputs": [],
   "source": [
    "len(list(V.v))"
   ]
  },
  {
   "cell_type": "code",
   "execution_count": null,
   "id": "98ed2b7a-b66d-43ec-8204-ff3cd3455e30",
   "metadata": {},
   "outputs": [],
   "source": [
    "P.state"
   ]
  },
  {
   "cell_type": "code",
   "execution_count": null,
   "id": "71bec093-e281-4840-8dfc-d69d41caea3d",
   "metadata": {},
   "outputs": [],
   "source": [
    "V"
   ]
  },
  {
   "cell_type": "code",
   "execution_count": null,
   "id": "d305e44a-46f3-493b-847a-96ef74f9e6e8",
   "metadata": {},
   "outputs": [],
   "source": [
    "len(list(V.v))"
   ]
  },
  {
   "cell_type": "code",
   "execution_count": null,
   "id": "2ad7d2f1-37b8-48b4-8e10-6afb4a8d8bc5",
   "metadata": {},
   "outputs": [],
   "source": [
    "%matplotlib inline\n",
    "# 6th: Run & monitor\n",
    "# V = StateMonitor(groups[0][0], \"v\", record=True)\n",
    "V = StateMonitor(groups[0][1], \"v\", record=True)\n",
    "run(1*ms)\n",
    "\n",
    "a = list(V.v)\n",
    "b = list(V.v[0])\n",
    "# plot(V.t/ms,V.v[0])\n",
    "# plot(V.t/ms,V.v)"
   ]
  },
  {
   "cell_type": "code",
   "execution_count": null,
   "id": "2c0d362a-979f-4e79-b883-98964b544aff",
   "metadata": {},
   "outputs": [],
   "source": [
    "# V.vで、そのグループの全てのニューロンという意味になる\n",
    "# ただし、1つ1つのニューロンが10個の計測値を持っている\n",
    "len(a)"
   ]
  },
  {
   "cell_type": "code",
   "execution_count": null,
   "id": "5cee36e0-e4b5-4288-b61e-4efe34399a73",
   "metadata": {},
   "outputs": [],
   "source": [
    "# V.v[0]で、ある一つのニューロンという意味になる"
   ]
  },
  {
   "cell_type": "code",
   "execution_count": null,
   "id": "c76e875a-0572-49e6-a670-81833b6b50b0",
   "metadata": {},
   "outputs": [],
   "source": [
    "len(b)"
   ]
  },
  {
   "cell_type": "code",
   "execution_count": null,
   "id": "2216d275-d657-46d8-9b80-34e40a9b4f23",
   "metadata": {},
   "outputs": [],
   "source": [
    "a[0]"
   ]
  },
  {
   "cell_type": "code",
   "execution_count": null,
   "id": "e58aa0d1-a051-4363-a443-db6341eb5c94",
   "metadata": {},
   "outputs": [],
   "source": [
    "V.v[0]"
   ]
  },
  {
   "cell_type": "code",
   "execution_count": null,
   "id": "a6b3d200-e1bc-4a76-b329-9ce3ddacd41b",
   "metadata": {},
   "outputs": [],
   "source": [
    "# plot(V.t/ms,V.v)"
   ]
  },
  {
   "cell_type": "code",
   "execution_count": null,
   "id": "0c94df11-00a1-41e6-acd4-ec4d871c7ab6",
   "metadata": {},
   "outputs": [],
   "source": [
    "# 0.1ms毎に取得した合計10個の膜電位の値を可視化\n",
    "# 何故か2ms~3msまでの期間になっている。runを三回やったからかな？\n",
    "plot(V.t/ms,V.v[0])"
   ]
  },
  {
   "cell_type": "code",
   "execution_count": null,
   "id": "c7b72194-b41d-4655-9fe7-5f7565c139e5",
   "metadata": {},
   "outputs": [],
   "source": [
    "V.t"
   ]
  },
  {
   "cell_type": "code",
   "execution_count": null,
   "id": "22c2dbfd-b626-4b16-ad52-1f35e441bb66",
   "metadata": {},
   "outputs": [],
   "source": [
    "len(a)"
   ]
  },
  {
   "cell_type": "code",
   "execution_count": null,
   "id": "7a20f6ce-fad8-4ef8-be6f-8cbf56e7d6f9",
   "metadata": {},
   "outputs": [],
   "source": [
    "run(1000 * ms)\n",
    "subplot(211)\n",
    "plot(V.t[:200] / ms, V.v[0][:200] / mV, \"r\")\n",
    "plot(V.t[:200] / ms, V.v[100][:200] / mV, \"g\")\n",
    "plot(V.t[:200] / ms, V.v[200][:200] / mV, \"b\")\n",
    "show()"
   ]
  },
  {
   "cell_type": "code",
   "execution_count": null,
   "id": "b058dea7-6858-4613-9772-c2f5c9719d5f",
   "metadata": {},
   "outputs": [],
   "source": [
    "%matplotlib inline\n",
    "# 6th: Run & monitor\n",
    "M = SpikeMonitor(P)\n",
    "V = StateMonitor(P, \"v\", record=True)\n",
    "run(1000 * ms)\n",
    "subplot(211)\n",
    "plot(M.t / ms, M.i, \".\")\n",
    "subplot(212)\n",
    "plot(V.t[:200] / ms, V.v[0][:200] / mV, \"r\")\n",
    "plot(V.t[:200] / ms, V.v[100][:200] / mV, \"g\")\n",
    "plot(V.t[:200] / ms, V.v[200][:200] / mV, \"b\")\n",
    "show()"
   ]
  },
  {
   "cell_type": "code",
   "execution_count": null,
   "id": "0293f4d1-8cab-4d6c-a586-a8bb466524e3",
   "metadata": {},
   "outputs": [],
   "source": [
    "def get_neighbor_groups(index):\n",
    "    indexes = [i for i in range(100)]\n",
    "    if 3 <= index and index <= 96:\n",
    "        return indexes[index - 3 : index] + indexes[index + 1 : index + 4]\n",
    "    if index < 3:\n",
    "        return indexes[index - 3 :] + indexes[:index] + indexes[index + 1 : index + 4]\n",
    "    if 96 < index and index <= 99:\n",
    "        return indexes[index - 3 : index] + indexes[index + 1 : 100] + indexes[: index - 96]\n",
    "    if 99 < index:\n",
    "        raise ValueError(\"out of index\")"
   ]
  },
  {
   "cell_type": "code",
   "execution_count": null,
   "id": "27264996-7c9c-4ab6-9a04-60cc56d1d42e",
   "metadata": {},
   "outputs": [],
   "source": []
  },
  {
   "cell_type": "code",
   "execution_count": null,
   "id": "d4a87675-e348-4a3d-968f-6837b8ba22f3",
   "metadata": {},
   "outputs": [],
   "source": [
    "# I_in = ceil(x)*(x>(1/exp(1)))*amplitude : volt"
   ]
  },
  {
   "cell_type": "code",
   "execution_count": null,
   "id": "55d07e63-ea70-46d7-a50b-59d649c90191",
   "metadata": {},
   "outputs": [],
   "source": [
    "from brian2 import *\n",
    "\n",
    "%matplotlib inline\n",
    "\n",
    "\n",
    "def izhikevich_model():\n",
    "    def draw_normals(n, start, stop):\n",
    "        mu, sigma, numbers = start + (stop - start) / 2, (stop - start) / 6, zeros(n)\n",
    "        for i in range(n):\n",
    "            s = -1\n",
    "            while (s < start) or (s > stop):\n",
    "                s = numpy.random.normal(mu, sigma, 1)\n",
    "                numbers[i] = s\n",
    "        return numbers\n",
    "\n",
    "    n = 2000  # number of neurons\n",
    "    R = 0.8  # ratio about excitory-inhibitory neurons\n",
    "\n",
    "    eqs = Equations(\n",
    "        \"\"\" \n",
    "    dv/dt = (0.04/ms/mV)*v**2 + (5/ms) * v + 140*mV/ms - u + I_syn/ms + I_in/ms : volt\n",
    "    du/dt = a*((b*v) - u) : volt/second\n",
    "    dx/dt = -x/(1*ms) : 1\n",
    "    I_in = ceil(x)*((1/exp(1)))*amplitude : volt\n",
    "    dI_syn/dt = - I_syn/tau : volt\n",
    "    a : 1/second\n",
    "    b : 1/second\n",
    "    c : volt\n",
    "    d : volt/second\n",
    "    amplitude : volt\n",
    "    tau : second\n",
    "    \"\"\"\n",
    "    )\n",
    "    # 公式サイトにあるIzhikevichモデルの例\n",
    "    # こちらでのvmがv、wが上の記法ではuになり、IがI_synとI_inに分かれている\n",
    "    # a = 0.02/ms; b = 0.2/ms\n",
    "    # eqs = '''dvm/dt = (0.04/ms/mV)*vm**2+(5/ms)*vm+140*mV/ms-w + I : volt\n",
    "    #          dw/dt = a*(b*vm-w) : volt/second\n",
    "    #          I : volt/second'''\n",
    "    # group = ... # see above\n",
    "\n",
    "    # reset specification of the Izhikevich model\n",
    "    reset = \"\"\"\n",
    "    v = c\n",
    "    u += d\n",
    "    \"\"\"\n",
    "\n",
    "    # 2nd: Define the Population of Neurons P\n",
    "    P = NeuronGroup(n, model=eqs, threshold=\"v>30*mvolt\", reset=reset, method=\"euler\")\n",
    "\n",
    "    # 3rd: Define subgroups of the neurons (regular spiking/fast spiking)\n",
    "    # inhibitorの方は、おそらくパルブアルブミン型の抑制性ニューロンを表現している\n",
    "    # https://knowingneurons.com/2014/11/05/inhibitory-neurons-keeping-the-brains-traffic-in-check/\n",
    "    Pe = P[: int(n * R)]\n",
    "    Pi = P[int(n * R) :]\n",
    "\n",
    "    # 4th: initialize starting neuronal p\"\"\"!!!<<<nicht wie im Paper>>>!!!\"\"\"arameters for the simulation\n",
    "    # この辺の数字とかは論文に合わせる必要がある。論文ではIzhikevichの論文で使われている設定そのままとのこと。\n",
    "    # この辺参考になる\n",
    "    # https://qiita.com/arakiii/items/7522c5a1b3427bd51259\n",
    "    # https://compneuro-julia.github.io/neuron-model/izhikevich.html\n",
    "    # http://gaya.jp/spiking_neuron/izhikevich.htm\n",
    "    Pe.a = 0.02 / msecond\n",
    "    Pe.b = 0.2 / msecond\n",
    "    Pe.c = (15 * draw_normals(int(n * R), float(0), 1) - 65) * mvolt\n",
    "    Pe.d = (-6 * draw_normals(int(n * R), float(0), 1) + 8) * mvolt / msecond\n",
    "    Pe.tau = draw_normals(int(n * R), float(3), 15) * msecond\n",
    "    Pi.a = (0.08 * draw_normals(n - int(n * R), float(0), 1) + 0.02) * 1 / msecond\n",
    "    Pi.b = (-0.05 * draw_normals(n - int(n * R), float(0), 1) + 0.25) * 1 / msecond\n",
    "    Pi.c = -65 * mvolt\n",
    "    Pi.d = 2 * mvolt / msecond\n",
    "    Pi.tau = draw_normals(n - int(n * R), float(3), 15) * msecond\n",
    "    P.x = 0\n",
    "    P.v = draw_normals(n, float(-50), float(-25)) * mvolt\n",
    "    P.amplitude = draw_normals(n, 0, 8) * mvolt\n",
    "\n",
    "    # 5th: Connect synapses\n",
    "    Ce = Synapses(Pe, P, on_pre=\"I_syn+=1.5*mV\")\n",
    "    Ce.connect(p=0.05)\n",
    "    Ci = Synapses(Pi, P, on_pre=\"I_syn-=8*mV\")\n",
    "    Ci.connect(p=0.05)\n",
    "\n",
    "    # 6th: Run & monitor\n",
    "    M = SpikeMonitor(P)\n",
    "    V = StateMonitor(P, \"v\", record=True)\n",
    "    run(500 * ms)\n",
    "    subplot(211)\n",
    "    plot(M.t / ms, M.i, \".\")\n",
    "    subplot(212)\n",
    "    plot(V.t[:200] / ms, V.v[0][:200] / mV, \"r\")\n",
    "    plot(V.t[:200] / ms, V.v[100][:200] / mV, \"g\")\n",
    "    plot(V.t[:200] / ms, V.v[200][:200] / mV, \"b\")\n",
    "    show()\n",
    "\n",
    "\n",
    "izhikevich_model()"
   ]
  },
  {
   "cell_type": "code",
   "execution_count": null,
   "id": "7d1f9f66-8efc-4c1f-9fc9-a4b85478708b",
   "metadata": {},
   "outputs": [],
   "source": [
    "import matplotlib.pyplot as pl\n",
    "from smallworld import get_smallworld_graph\n",
    "from smallworld.draw import draw_network\n",
    "\n",
    "# define network parameters\n",
    "N = 100\n",
    "k_over_2 = 3\n",
    "betas = [0, 0.025, 1.0]\n",
    "labels = [r\"$\\beta=0$\", r\"$\\beta=0.025$\", r\"$\\beta=1$\"]\n",
    "\n",
    "focal_node = 0\n",
    "\n",
    "fig, ax = pl.subplots(1, 3, figsize=(9, 3))\n",
    "\n",
    "\n",
    "# scan beta values\n",
    "for ib, beta in enumerate(betas):\n",
    "\n",
    "    # generate small-world graphs and draw\n",
    "    G = get_smallworld_graph(N, k_over_2, beta)\n",
    "    draw_network(G, k_over_2, focal_node=focal_node, ax=ax[ib])\n",
    "\n",
    "    ax[ib].set_title(labels[ib], fontsize=11)\n",
    "\n",
    "# show\n",
    "pl.subplots_adjust(wspace=0.3)\n",
    "pl.show()"
   ]
  },
  {
   "cell_type": "code",
   "execution_count": null,
   "id": "865b5108-1844-4d53-9c32-21daea5bb1fa",
   "metadata": {},
   "outputs": [],
   "source": [
    "import networkx as nx\n",
    "\n",
    "nx.info(G)"
   ]
  },
  {
   "cell_type": "code",
   "execution_count": null,
   "id": "78ebd762-7758-4b7d-ac3d-716c6915e7c3",
   "metadata": {},
   "outputs": [],
   "source": [
    "G.nodes()"
   ]
  },
  {
   "cell_type": "code",
   "execution_count": null,
   "id": "d6dbe54d-c98a-4adc-9f16-5f29b6f7d984",
   "metadata": {},
   "outputs": [],
   "source": [
    "G.edges()"
   ]
  },
  {
   "cell_type": "code",
   "execution_count": null,
   "id": "cb4e36d8-bec4-4bc2-a071-542d3591cd7a",
   "metadata": {},
   "outputs": [],
   "source": [
    "def visualise_connectivity(S):\n",
    "    Ns = len(S.source)\n",
    "    Nt = len(S.target)\n",
    "    figure(figsize=(10, 4))\n",
    "    subplot(121)\n",
    "    plot(zeros(Ns), arange(Ns), \"ok\", ms=10)\n",
    "    plot(ones(Nt), arange(Nt), \"ok\", ms=10)\n",
    "    for i, j in zip(S.i, S.j):\n",
    "        plot([0, 1], [i, j], \"-k\")\n",
    "    xticks([0, 1], [\"Source\", \"Target\"])\n",
    "    ylabel(\"Neuron index\")\n",
    "    xlim(-0.1, 1.1)\n",
    "    ylim(-1, max(Ns, Nt))\n",
    "    subplot(122)\n",
    "    plot(S.i, S.j, \"ok\")\n",
    "    xlim(-1, Ns)\n",
    "    ylim(-1, Nt)\n",
    "    xlabel(\"Source neuron index\")\n",
    "    ylabel(\"Target neuron index\")\n",
    "\n",
    "\n",
    "# visualise_connectivity(S)"
   ]
  }
 ],
 "metadata": {
  "kernelspec": {
   "display_name": "Python 3 (ipykernel)",
   "language": "python",
   "name": "python3"
  },
  "language_info": {
   "codemirror_mode": {
    "name": "ipython",
    "version": 3
   },
   "file_extension": ".py",
   "mimetype": "text/x-python",
   "name": "python",
   "nbconvert_exporter": "python",
   "pygments_lexer": "ipython3",
   "version": "3.9.9"
  }
 },
 "nbformat": 4,
 "nbformat_minor": 5
}
