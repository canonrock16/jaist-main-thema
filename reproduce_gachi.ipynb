{
 "cells": [
  {
   "cell_type": "code",
   "execution_count": 1,
   "id": "40f30cbc-3153-4907-86d2-0c36805ea624",
   "metadata": {},
   "outputs": [],
   "source": [
    "# 内部に1000個のニューロンを持つ100個のニューロングループを用意\n",
    "# ニューロングループ内部での接続を用意\n",
    "# ニューロングループ同士の接続を再配線率ごとに用意\n",
    "# 1000秒間STDP則に従って学習\n",
    "# 100秒間STDPせずに動かす\n",
    "# 100秒間のニューロンの動きをシミュレーション"
   ]
  },
  {
   "cell_type": "code",
   "execution_count": 2,
   "id": "f12c07a9-8140-4f5e-9478-75b610629163",
   "metadata": {},
   "outputs": [],
   "source": [
    "\n",
    "import numpy as np\n",
    "from brian2 import *\n",
    "from tqdm import tqdm\n",
    "import random\n",
    "\n",
    "%matplotlib inline"
   ]
  },
  {
   "cell_type": "code",
   "execution_count": 3,
   "id": "df76dbf4-0e97-4261-ad3d-a96f343e6a35",
   "metadata": {
    "tags": []
   },
   "outputs": [],
   "source": [
    "# イジケビッチニューロンの定義\n",
    "eqs = Equations(\n",
    "    \"\"\"\n",
    "dv/dt = (0.04/ms/mV)*v**2+(5/ms)*v+140*mV/ms-u+I : volt\n",
    "du/dt = a*(b*v-u)                                : volt/second\n",
    "I                                                : volt/second\n",
    "a                                                : 1/second\n",
    "b                                                : 1/second\n",
    "c                                                : volt\n",
    "d                                                : volt/second\n",
    "\"\"\"\n",
    ")\n",
    "\n",
    "reset = \"\"\"\n",
    "v = c\n",
    "u = u + d\n",
    "\"\"\""
   ]
  },
  {
   "cell_type": "code",
   "execution_count": 4,
   "id": "529c744a-0285-4c03-96cf-4b62f6a1a7b6",
   "metadata": {},
   "outputs": [],
   "source": [
    "taupre = taupost = 20 * ms\n",
    "# 論文の設定\n",
    "wmax = 10*volt\n",
    "Apre = 0.1 *volt\n",
    "Apost = -0.12*volt\n",
    "# brian2の設定\n",
    "# wmax = 0.01\n",
    "# Apre = 0.01\n",
    "# Apost = -Apre * taupre / taupost * 1.05"
   ]
  },
  {
   "cell_type": "code",
   "execution_count": 5,
   "id": "5ff27414-2848-4425-8d26-5edbd93ab9e9",
   "metadata": {},
   "outputs": [],
   "source": [
    "n = 1000  # number of neurons in one group\n",
    "neuron_group_count = 100\n",
    "R = 0.8  # ratio about excitory-inhibitory neurons"
   ]
  },
  {
   "cell_type": "code",
   "execution_count": 6,
   "id": "cb23c645-9a67-4907-b6bd-271c36864c08",
   "metadata": {},
   "outputs": [],
   "source": [
    "# 各ニューロングループの生成\n",
    "# 30mvでスパイクが発生する。数値積分法はeuler\n",
    "P = NeuronGroup(n * neuron_group_count, model=eqs, threshold=\"v>30*mvolt\", reset=reset, method=\"euler\")"
   ]
  },
  {
   "cell_type": "code",
   "execution_count": 7,
   "id": "d96e1d29-db05-44ef-ad19-d9148952b617",
   "metadata": {},
   "outputs": [],
   "source": [
    "re = np.random.random(int(n * R))\n",
    "ri = np.random.random(round(n * (1 - R)))"
   ]
  },
  {
   "cell_type": "code",
   "execution_count": null,
   "id": "ff9ef0a5-0632-4f09-a701-6819751f4bd0",
   "metadata": {},
   "outputs": [
    {
     "name": "stderr",
     "output_type": "stream",
     "text": [
      " 17%|███████████████████████████████████████▊                                                                                                                                                                                                  | 17/100 [02:00<13:12,  9.55s/it]"
     ]
    }
   ],
   "source": [
    "groups = []\n",
    "# サブグループに分ける\n",
    "for i in tqdm(range(neuron_group_count)):\n",
    "    start = int(i * n)\n",
    "    end = int((i + 1) * n)\n",
    "\n",
    "    group = P[start:end]\n",
    "    # 興奮性\n",
    "    Pe = group[: int(n * R)]\n",
    "    # 抑制性\n",
    "    Pi = group[int(n * R) :]\n",
    "\n",
    "    # 各種設定\n",
    "    Pe.a = 0.02 / msecond\n",
    "    Pe.b = 0.2 / msecond\n",
    "    Pe.c = (15 * re ** 2 - 65) * mvolt\n",
    "    Pe.d = (-6 * re ** 2 + 8) * mvolt / msecond\n",
    "    Pe.I = 0.02 * volt/second\n",
    "\n",
    "    Pi.a = (0.08 * ri ** 2 + 0.02) * 1 / msecond\n",
    "    Pi.b = (-0.05 * ri ** 2 + 0.25) * 1 / msecond\n",
    "    Pi.c = -65 * mvolt\n",
    "    Pi.d = 2 * mvolt / msecond\n",
    "    Pi.I = 0.02 * volt/second\n",
    "\n",
    "    # グループ内の接続\n",
    "    # 興奮性ニューロン to 同じニューロングループ内の100個のニューロンへのランダム接続\n",
    "    Ce = Synapses(\n",
    "        Pe,\n",
    "        group,\n",
    "        \"\"\"\n",
    "        w : volt\n",
    "        dapre/dt = -apre/taupre : volt (event-driven)\n",
    "        dapost/dt = -apost/taupost : volt (event-driven)\n",
    "        \"\"\",\n",
    "        on_pre=\"\"\"\n",
    "        v_post += w\n",
    "        apre += Apre\n",
    "        w = clip(w+apost, 0*volt, wmax)\n",
    "        \"\"\",\n",
    "        on_post=\"\"\"\n",
    "        apost += Apost\n",
    "        w = clip(w+apre, 0*volt, wmax)\n",
    "        \"\"\",\n",
    "    )\n",
    "    Ce.connect(p=0.1)\n",
    "    Ce.w = 6.0*volt\n",
    "    Ce.delay = random.uniform(0, 20)*ms\n",
    "    # 抑制性ニューロン　to 同じニューロングループ内の100個の興奮性ニューロンへのランダム接続\n",
    "    Ci = Synapses(\n",
    "        Pi,\n",
    "        Pe,\n",
    "        \"\"\"\n",
    "        w : volt\n",
    "        dapre/dt = -apre/taupre : volt (event-driven)\n",
    "        dapost/dt = -apost/taupost : volt (event-driven)\n",
    "        \"\"\",\n",
    "        on_pre=\"\"\"\n",
    "        v_post += w\n",
    "        apre += Apre\n",
    "        w = clip(w+apost, 0*volt, wmax)\n",
    "        \"\"\",\n",
    "        on_post=\"\"\"\n",
    "        apost += Apost\n",
    "        w = clip(w+apre, 0*volt, wmax)\n",
    "        \"\"\",\n",
    "    )\n",
    "    Ci.connect(p=0.125)\n",
    "    Ci.w = -5.0*volt\n",
    "    Ci.delay = 1 * ms\n",
    "\n",
    "    groups.append((group, Pe, Pi, Ce, Ci))"
   ]
  },
  {
   "cell_type": "code",
   "execution_count": null,
   "id": "f9ac4fee-dc8c-4431-84de-c0e007251a82",
   "metadata": {},
   "outputs": [],
   "source": [
    "# WSモデルに従い、各グループの興奮性ニューロンから隣接する6つのノードへの接続と再配線を行う\n",
    "import matplotlib.pyplot as pl\n",
    "from smallworld import get_smallworld_graph\n",
    "from smallworld.draw import draw_network\n",
    "\n",
    "# define network parameters\n",
    "N = neuron_group_count\n",
    "k_over_2 = 3\n",
    "beta = 1.0\n",
    "label = r\"$\\beta=0$\"\n",
    "\n",
    "focal_node = 0\n",
    "# generate small-world graphs and draw\n",
    "G = get_smallworld_graph(N, k_over_2, beta)\n",
    "\n",
    "for edge in tqdm(list(G.edges())):\n",
    "    source_group_Pe = groups[edge[0]][1]\n",
    "    target_group = groups[edge[1]][0]\n",
    "\n",
    "    Ce = Synapses(\n",
    "        source_group_Pe,\n",
    "        target_group,\n",
    "        \"\"\"\n",
    "        w : volt\n",
    "        dapre/dt = -apre/taupre : volt (event-driven)\n",
    "        dapost/dt = -apost/taupost : volt (event-driven)\n",
    "        \"\"\",\n",
    "        on_pre=\"\"\"\n",
    "        v_post += w\n",
    "        apre += Apre\n",
    "        w = clip(w+apost, 0*volt, wmax)\n",
    "        \"\"\",\n",
    "        on_post=\"\"\"\n",
    "        apost += Apost\n",
    "        w = clip(w+apre, 0*volt, wmax)\n",
    "        \"\"\",\n",
    "    )\n",
    "    # 各興奮性ニューロンが、他のニューロングループと三本の接続を持つので、接続する確率は3/1000\n",
    "    Ce.connect(p=0.003)\n",
    "    Ce.w = 6.0*volt\n",
    "    Ce.delay = random.uniform(10, 30)"
   ]
  },
  {
   "cell_type": "code",
   "execution_count": null,
   "id": "5f839703-f9c8-4593-bce0-b57a86d12b2d",
   "metadata": {},
   "outputs": [],
   "source": [
    "from collections import defaultdict\n",
    "\n",
    "# とりあええず1000秒動かす\n",
    "run_time_ms = 1000 * 1000\n",
    "\n",
    "# statemonitorを1つだけにするver\n",
    "value_interval_ms = 1\n",
    "time_count = int(run_time_ms / value_interval_ms)\n",
    "\n",
    "defaultclock.dt = value_interval_ms * ms\n",
    "\n",
    "# V = StateMonitor(P, \"v\", record=True)\n",
    "run(run_time_ms * ms)"
   ]
  },
  {
   "cell_type": "code",
   "execution_count": null,
   "id": "17070df6-f0fc-46a4-a54a-22f6bb6ed37e",
   "metadata": {},
   "outputs": [],
   "source": [
    "# STDPの設定を外す\n",
    "for group in groups:\n",
    "    gruop[3].pre.code = \"v_post +=w\"\n",
    "    gruop[4].pre.code = \"v_post +=w\""
   ]
  },
  {
   "cell_type": "code",
   "execution_count": null,
   "id": "1210b96f-f69d-4fb8-988e-2ef70ca03099",
   "metadata": {},
   "outputs": [],
   "source": [
    "# 100秒動かす\n",
    "run_time_ms = 100 * 1000\n",
    "# V = StateMonitor(P, \"v\", record=True)\n",
    "run(run_time_ms * ms)"
   ]
  },
  {
   "cell_type": "code",
   "execution_count": null,
   "id": "6d6a13c0-17b8-4631-ac83-cc0191f9970e",
   "metadata": {},
   "outputs": [],
   "source": [
    "# inputの設定を外す\n",
    "new_I = array([0.0 for i in range(n*neuron_group_count)])\n",
    "P.I = new_I * volt/second"
   ]
  },
  {
   "cell_type": "code",
   "execution_count": null,
   "id": "73026b90-7027-4091-be08-aba6678151e2",
   "metadata": {},
   "outputs": [],
   "source": [
    "P.I"
   ]
  },
  {
   "cell_type": "code",
   "execution_count": null,
   "id": "a8fbcd2c-7938-4a9b-9f41-56440d943f73",
   "metadata": {},
   "outputs": [],
   "source": [
    "# 100秒動かす\n",
    "run_time_ms = 100 * 1000\n",
    "V = StateMonitor(P, \"v\", record=True)\n",
    "run(run_time_ms * ms)"
   ]
  },
  {
   "cell_type": "code",
   "execution_count": null,
   "id": "c05192dc-4098-48da-b1fd-c0646550db36",
   "metadata": {},
   "outputs": [],
   "source": [
    "lap = defaultdict(list)\n",
    "for i in tqdm(range(neuron_group_count)):\n",
    "    start = int(i * n)\n",
    "    end = int((i + 1) * n)\n",
    "\n",
    "    group = V.v[start:end]\n",
    "    # 興奮性\n",
    "    Pe = group[: int(n * R)]\n",
    "    for j in range(time_count):\n",
    "        data = [neuron[j] / mV for neuron in list(group)]\n",
    "        mean = sum(data) / len(data)\n",
    "        lap[i].append(mean)"
   ]
  },
  {
   "cell_type": "code",
   "execution_count": null,
   "id": "27a099f4-e855-4546-9a84-1dbe8a69fed3",
   "metadata": {},
   "outputs": [],
   "source": [
    "import neurokit2 as nk\n",
    "import numpy as np\n",
    "import pandas as pd\n",
    "# 全てのニューロングループに対してMSEの計算を行う\n",
    "results = []\n",
    "for i in range(neuron_group_count):\n",
    "    result = nk.entropy_multiscale(signal=np.array(lap[i]),scale=40,dimension=1)\n",
    "    results.append(result[1]['Values'])\n",
    "    \n",
    "pd.DataFrame(results).to_csv('test.csv',index=False)"
   ]
  },
  {
   "cell_type": "code",
   "execution_count": null,
   "id": "85cfff51-24b8-4f04-9ff0-e8d8afaf6847",
   "metadata": {},
   "outputs": [],
   "source": []
  }
 ],
 "metadata": {
  "kernelspec": {
   "display_name": "Python 3 (ipykernel)",
   "language": "python",
   "name": "python3"
  },
  "language_info": {
   "codemirror_mode": {
    "name": "ipython",
    "version": 3
   },
   "file_extension": ".py",
   "mimetype": "text/x-python",
   "name": "python",
   "nbconvert_exporter": "python",
   "pygments_lexer": "ipython3",
   "version": "3.9.9"
  }
 },
 "nbformat": 4,
 "nbformat_minor": 5
}
