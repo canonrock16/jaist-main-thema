{
 "cells": [
  {
   "cell_type": "code",
   "execution_count": 4,
   "id": "d8358319-5036-43cd-a8de-980ef5b39d0a",
   "metadata": {},
   "outputs": [],
   "source": [
    "clear_cache('cython')"
   ]
  },
  {
   "cell_type": "code",
   "execution_count": 1,
   "id": "2e52b838-ea49-4acf-99f4-11834bd4d644",
   "metadata": {},
   "outputs": [
    {
     "name": "stderr",
     "output_type": "stream",
     "text": [
      "INFO       Cache size for target 'cython': 3190375312 MB.\n",
      "You can call clear_cache('cython') to delete all files from the cache or manually delete files in the '/home/s2030415/.cython/brian_extensions' directory. [brian2]\n"
     ]
    }
   ],
   "source": [
    "import pickle\n",
    "import random\n",
    "import time\n",
    "from collections import defaultdict\n",
    "\n",
    "import matplotlib.pyplot as plt\n",
    "import neurokit2 as nk\n",
    "import numpy as np\n",
    "import pandas as pd\n",
    "from brian2 import *\n",
    "from smallworld import get_smallworld_graph\n",
    "from smallworld.draw import draw_network\n",
    "from tqdm import tqdm"
   ]
  },
  {
   "cell_type": "code",
   "execution_count": 2,
   "id": "e3bb8e3e-7201-4bae-aa6b-0f95263f6f3b",
   "metadata": {},
   "outputs": [],
   "source": [
    "time0 = time.time()\n",
    "# first_sim_ms = 1000 * 1000\n",
    "first_sim_ms = 100\n",
    "# second_sim_ms = 100 * 1000\n",
    "second_sim_ms = 10\n",
    "# third_sim_ms = 100 * 1000\n",
    "third_sim_ms = 10\n",
    "\n",
    "# n = 1000  # number of neurons in one group\n",
    "n = 10  # number of neurons in one group\n",
    "# neuron_group_count = 100\n",
    "neuron_group_count = 10"
   ]
  },
  {
   "cell_type": "code",
   "execution_count": 3,
   "id": "d8ece0df-2f6e-4b52-8124-e3e3d613670c",
   "metadata": {},
   "outputs": [
    {
     "name": "stderr",
     "output_type": "stream",
     "text": [
      "100%|███████████████████████████████████████████████████████████████████████████████████████████████████████████████████████████████████████████████████████████████████████████████████████████████████████████████████████████████████████████| 26/26 [02:39<00:00,  6.14s/it]"
     ]
    },
    {
     "name": "stdout",
     "output_type": "stream",
     "text": [
      "配線をするまでにかかった時間 174.35016918182373 sec\n"
     ]
    },
    {
     "name": "stderr",
     "output_type": "stream",
     "text": [
      "\n"
     ]
    }
   ],
   "source": [
    "# イジケビッチニューロンの定義\n",
    "eqs = Equations(\n",
    "    \"\"\"\n",
    "dv/dt = (0.04/ms/mV)*v**2+(5/ms)*v+140*mV/ms-u+I : volt\n",
    "du/dt = a*(b*v-u)                                : volt/second\n",
    "I                                                : volt/second\n",
    "a                                                : 1/second\n",
    "b                                                : 1/second\n",
    "c                                                : volt\n",
    "d                                                : volt/second\n",
    "group                                            : integer (constant)\n",
    "is_excitatory                                    : boolean (constant)\n",
    "\"\"\"\n",
    ")\n",
    "\n",
    "reset = \"\"\"\n",
    "v = c\n",
    "u = u + d\n",
    "\"\"\"\n",
    "\n",
    "\n",
    "taupre = taupost = 20 * ms\n",
    "# 論文の設定\n",
    "wmax = 10  # 本当に(ry\n",
    "Apre = 0.1  # 本当にvolt?\n",
    "Apost = -0.12  # 本当にvolt?\n",
    "\n",
    "R = 0.8  # ratio about excitory-inhibitory neurons\n",
    "\n",
    "# 各ニューロングループの生成\n",
    "# 30mvでスパイクが発生する。数値積分法はeuler\n",
    "P = NeuronGroup(n * neuron_group_count, model=eqs, threshold=\"v>30*mvolt\", reset=reset, method=\"euler\")\n",
    "re = np.random.random(int(n * neuron_group_count))\n",
    "ri = np.random.random(round(n * neuron_group_count))\n",
    "\n",
    "# TODO:exiteとinhibitのパラメータを各々変更する\n",
    "P.group = \"i // n\"  # 0 for the first 1000 neurons, then 1 for the next 1000 neurons, etc.\n",
    "P.is_excitatory = \"(i % n) < int(R*n)\"\n",
    "\n",
    "# excitatory connections\n",
    "P.a = 0.02 / msecond  # 正\n",
    "P.b = 0.2 / msecond  # 正\n",
    "P.c = (15 * re ** 2 - 65) * mvolt\n",
    "P.d = (-6 * re ** 2 + 8) * mvolt / msecond\n",
    "P.I = 20 * mvolt / msecond  # 他が全部mVなのにこれだけvoltはおかしい /msecondじゃないと頻度が低すぎる\n",
    "\n",
    "# inhibitory connections\n",
    "P.a[\"not is_excitatory\"] = 0.1 * 1 / msecond\n",
    "P.b[\"not is_excitatory\"] = 0.2 * 1 / msecond\n",
    "P.c[\"not is_excitatory\"] = -65 * mvolt\n",
    "P.d[\"not is_excitatory\"] = 2 * mvolt / msecond\n",
    "P.I[\"not is_excitatory\"] = 20 * mvolt / msecond\n",
    "\n",
    "\n",
    "# TODO:exiteとinhibitでclipの所を変える\n",
    "C = Synapses(\n",
    "    P,\n",
    "    P,\n",
    "    \"\"\"\n",
    "        w : 1\n",
    "        dapre/dt = -apre/taupre : 1 (event-driven)\n",
    "        dapost/dt = -apost/taupost : 1 (event-driven)\n",
    "        \"\"\",\n",
    "    on_pre=\"\"\"\n",
    "        v_post += w * mV\n",
    "        apre += Apre\n",
    "        w = w+apost\n",
    "        \"\"\",\n",
    "    on_post=\"\"\"\n",
    "        apost += Apost\n",
    "        w = w+apre\n",
    "        \"\"\",\n",
    ")\n",
    "\n",
    "# 興奮性ニューロン to 同じニューロングループ内の100個のニューロンへのランダム接続\n",
    "C.connect(\"is_excitatory_pre and group_pre == group_post\", p=0.1)\n",
    "# 抑制性ニューロン　to 同じニューロングループ内の100個の興奮性ニューロンへのランダム接続\n",
    "C.connect(\"not is_excitatory_pre and is_excitatory_post and group_pre == group_post\", p=0.125)\n",
    "# WSモデルに従い、各グループの興奮性ニューロンから隣接する6つのノードへの接続と再配線を行う\n",
    "# define network parameters\n",
    "N = neuron_group_count\n",
    "k_over_2 = 3\n",
    "# k_over_2 = 1\n",
    "beta = 1.0\n",
    "label = r\"$\\beta=0$\"\n",
    "\n",
    "focal_node = 0\n",
    "# generate small-world graphs and draw\n",
    "G = get_smallworld_graph(N, k_over_2, beta)\n",
    "inter_synapses = []\n",
    "\n",
    "for edge in tqdm(list(G.edges())):\n",
    "    source_group = edge[0]\n",
    "    target_group = edge[1]\n",
    "    # 各興奮性ニューロンが、他のニューロングループと三本の接続を持つので、接続する確率は3/1000\n",
    "    C.connect(f\"is_excitatory_pre and group_pre == {source_group} and group_post == {target_group}\", p=0.003)\n",
    "\n",
    "# C.delay = \"int(rand*2000)/100*ms\"\n",
    "C.delay = \"20*ms\"\n",
    "C.w = 6.0\n",
    "\n",
    "C.w[\"not is_excitatory_pre\"] = -5.0\n",
    "C.delay[\"not is_excitatory_pre\"] = 1 * ms\n",
    "\n",
    "time1 = time.time()\n",
    "print(\"配線をするまでにかかった時間\", time1 - time0, \"sec\")"
   ]
  },
  {
   "cell_type": "code",
   "execution_count": 4,
   "id": "2ea1e381-6a26-4db6-8981-af71bee1a1ea",
   "metadata": {},
   "outputs": [
    {
     "name": "stdout",
     "output_type": "stream",
     "text": [
      "Starting simulation at t=0. s for a duration of 100. ms\n",
      "100. ms (100%) simulated in < 1s\n",
      "最初の千秒までにかかった時間 12.585769653320312 sec\n"
     ]
    }
   ],
   "source": [
    "net = Network(P, C)\n",
    "\n",
    "time2 = time.time()\n",
    "# とりあええず1000秒動かす\n",
    "value_interval_ms = 1\n",
    "defaultclock.dt = value_interval_ms * ms\n",
    "net.run(first_sim_ms * ms, report=\"stdout\")\n",
    "\n",
    "time3 = time.time()\n",
    "print(\"最初の千秒までにかかった時間\", time3 - time2, \"sec\")"
   ]
  },
  {
   "cell_type": "code",
   "execution_count": 5,
   "id": "af898cc6-4013-472f-aed6-4707dbb84511",
   "metadata": {},
   "outputs": [],
   "source": [
    "# STDP後のwを保存\n",
    "with open(\"w.pkl\", \"wb\") as f:\n",
    "    pickle.dump(np.array(C.w), f)"
   ]
  },
  {
   "cell_type": "code",
   "execution_count": 6,
   "id": "2454dfd5-f7fc-4640-ab90-df4775b67d5f",
   "metadata": {},
   "outputs": [
    {
     "name": "stdout",
     "output_type": "stream",
     "text": [
      "Starting simulation at t=100. ms for a duration of 10. ms\n",
      "10. ms (100%) simulated in < 1s\n",
      "次の100秒までにかかった時間 20.63600993156433 sec\n"
     ]
    }
   ],
   "source": [
    "# STDPの設定を外す\n",
    "C.pre.code = \"v_post +=w* mV\"\n",
    "C.post.code = \"\"\n",
    "\n",
    "# 100秒動かす\n",
    "net.run(second_sim_ms * ms, report=\"stdout\")\n",
    "\n",
    "time4 = time.time()\n",
    "print(\"次の100秒までにかかった時間\", time4 - time3, \"sec\")"
   ]
  },
  {
   "cell_type": "code",
   "execution_count": 7,
   "id": "f7aa2cc7-dcef-4bfb-8242-43c740c56371",
   "metadata": {},
   "outputs": [
    {
     "name": "stdout",
     "output_type": "stream",
     "text": [
      "Starting simulation at t=110. ms for a duration of 10. ms\n",
      "10. ms (100%) simulated in < 1s\n",
      "次の100秒までにかかった時間 7.88064169883728 sec\n"
     ]
    }
   ],
   "source": [
    "# inputの設定を外す\n",
    "new_I = array([0.0 for i in range(n * neuron_group_count)])\n",
    "P.I = new_I * volt / second\n",
    "\n",
    "V = StateMonitor(P, \"v\", record=True)\n",
    "S = SpikeMonitor(P)\n",
    "\n",
    "net.add(V)\n",
    "net.add(S)\n",
    "\n",
    "# 100秒動かす\n",
    "net.run(third_sim_ms * ms, report=\"stdout\")\n",
    "\n",
    "\n",
    "time5 = time.time()\n",
    "print(\"次の100秒までにかかった時間\", time5 - time4, \"sec\")"
   ]
  },
  {
   "cell_type": "code",
   "execution_count": 8,
   "id": "c5109182-ae85-45c6-b57f-ccbd554c65c0",
   "metadata": {},
   "outputs": [],
   "source": [
    "spikes = S.spike_trains()"
   ]
  },
  {
   "cell_type": "code",
   "execution_count": 9,
   "id": "540ecef2-e4d4-45f3-8cfd-5bb20abe8252",
   "metadata": {},
   "outputs": [],
   "source": [
    "with open('spikes.pkl','wb') as f:\n",
    "    pickle.dump(spikes,f)"
   ]
  },
  {
   "cell_type": "code",
   "execution_count": 10,
   "id": "54cceb1c-7776-461d-ab58-8c1bc000e2d3",
   "metadata": {},
   "outputs": [],
   "source": [
    "with open('spikes.pkl','rb') as f:\n",
    "    hoge = pickle.load(f)"
   ]
  },
  {
   "cell_type": "code",
   "execution_count": 12,
   "id": "770bf01d-13ba-45fc-9f73-efd3eeedeec8",
   "metadata": {},
   "outputs": [],
   "source": [
    "# hoge"
   ]
  },
  {
   "cell_type": "code",
   "execution_count": 13,
   "id": "018db2a4-ac44-443f-a649-5770b41cef7a",
   "metadata": {},
   "outputs": [
    {
     "name": "stderr",
     "output_type": "stream",
     "text": [
      "100%|████████████████████████████████████████████████████████████████████████████████████████████████████████████████████████████████████████████████████████████████████████████████████████████████████████████████████████████████████████| 10/10 [00:00<00:00, 15738.48it/s]"
     ]
    },
    {
     "name": "stdout",
     "output_type": "stream",
     "text": [
      "lap計算までにかかった時間 68.15563416481018 sec\n"
     ]
    },
    {
     "name": "stderr",
     "output_type": "stream",
     "text": [
      "\n"
     ]
    }
   ],
   "source": [
    "lap = defaultdict(list)\n",
    "for i in tqdm(range(neuron_group_count)):\n",
    "    start = int(i * n)\n",
    "    end = int((i + 1) * n)\n",
    "\n",
    "    group = V.v[start:end] / mV\n",
    "    # 興奮性\n",
    "    Pe = group[: int(n * R)]\n",
    "    lap[i] = np.mean(np.array(Pe), axis=0)\n",
    "\n",
    "time6 = time.time()\n",
    "print(\"lap計算までにかかった時間\", time6 - time5, \"sec\")\n",
    "\n",
    "pd.DataFrame(lap[0]).to_csv(\"test_before.csv\", index=False)"
   ]
  },
  {
   "cell_type": "code",
   "execution_count": 14,
   "id": "f520e5f7-d0dc-4236-b7ea-ba8bc0b150bf",
   "metadata": {},
   "outputs": [
    {
     "name": "stdout",
     "output_type": "stream",
     "text": [
      "mse計算までにかかった時間 0.16170239448547363 sec\n",
      "全体の処理時間 283.82760787010193 sec\n"
     ]
    }
   ],
   "source": [
    "# 全てのニューロングループに対してMSEの計算を行う\n",
    "results = []\n",
    "for i in range(neuron_group_count):\n",
    "    result = nk.entropy_multiscale(signal=np.array(lap[i]), scale=40, dimension=1)\n",
    "    results.append(result[1][\"Values\"])\n",
    "\n",
    "time7 = time.time()\n",
    "print(\"mse計算までにかかった時間\", time7 - time6, \"sec\")\n",
    "\n",
    "pd.DataFrame(results).to_csv(\"test.csv\", index=False)\n",
    "time8 = time.time()\n",
    "print(\"全体の処理時間\", time8 - time0, \"sec\")"
   ]
  },
  {
   "cell_type": "code",
   "execution_count": null,
   "id": "f28ca68f-7061-4886-b587-ed2c2b96033f",
   "metadata": {},
   "outputs": [],
   "source": []
  }
 ],
 "metadata": {
  "kernelspec": {
   "display_name": "Python 3 (ipykernel)",
   "language": "python",
   "name": "python3"
  },
  "language_info": {
   "codemirror_mode": {
    "name": "ipython",
    "version": 3
   },
   "file_extension": ".py",
   "mimetype": "text/x-python",
   "name": "python",
   "nbconvert_exporter": "python",
   "pygments_lexer": "ipython3",
   "version": "3.8.5"
  }
 },
 "nbformat": 4,
 "nbformat_minor": 5
}
